{
  "nbformat": 4,
  "nbformat_minor": 0,
  "metadata": {
    "colab": {
      "provenance": []
    },
    "kernelspec": {
      "name": "python3",
      "display_name": "Python 3"
    },
    "language_info": {
      "name": "python"
    }
  },
  "cells": [
    {
      "cell_type": "code",
      "execution_count": null,
      "metadata": {
        "id": "opv6OK_Vn3pp"
      },
      "outputs": [],
      "source": []
    },
    {
      "cell_type": "markdown",
      "metadata": {
        "id": "azq1OmUiIhka"
      },
      "source": [
        "**Q 1:**\n",
        "\n",
        "Define a function named **words_dict**.\n",
        "\n",
        "It will read `en_words.txt` file and will create a dictionary from these words.\n",
        "\n",
        "It will only take the words that have more than or equal to 19 letters.\n",
        "\n",
        "The Key of the dictionary will be the word itself and the Value will be number of letters in the word.\n",
        "\n",
        "The function will return this dictionary.\n",
        "\n",
        "**Hints:**\n",
        "* open()\n",
        "\n",
        "<pre>\n",
        "Expected Output:\n",
        "\n",
        "{\n",
        " 'anticonservationist': 19,\n",
        " 'comprehensivenesses': 19,\n",
        " 'counterdemonstration': 20,\n",
        " 'counterdemonstrations': 21,\n",
        " ...\n",
        "}\n",
        "</pre>"
      ]
    },
    {
      "cell_type": "code",
      "execution_count": null,
      "metadata": {
        "id": "itOEhEFXIhkb"
      },
      "outputs": [],
      "source": [
        "# S 1:\n",
        "def words_dict():\n",
        "  f = open(\"en_words.txt\", \"x\")\n",
        "  print(f.create)"
      ]
    },
    {
      "cell_type": "code",
      "execution_count": null,
      "metadata": {
        "id": "C3K8APieIhkd",
        "outputId": "0535a6f3-0031-4f49-9cf5-de8ef78ff090"
      },
      "outputs": [
        {
          "data": {
            "text/plain": [
              "{'anticonservationist': 19,\n",
              " 'comprehensivenesses': 19,\n",
              " 'counterdemonstration': 20,\n",
              " 'counterdemonstrations': 21,\n",
              " 'counterdemonstrator': 19,\n",
              " 'counterdemonstrators': 20,\n",
              " 'counterinflationary': 19,\n",
              " 'counterpropagations': 19,\n",
              " 'counterretaliations': 19,\n",
              " 'disinterestednesses': 19,\n",
              " 'electrocardiographs': 19,\n",
              " 'extraconstitutional': 19,\n",
              " 'hyperaggressiveness': 19,\n",
              " 'hyperaggressivenesses': 21,\n",
              " 'hypersensitivenesses': 20,\n",
              " 'inappropriatenesses': 19,\n",
              " 'inconsideratenesses': 19,\n",
              " 'interdenominational': 19,\n",
              " 'irreconcilabilities': 19,\n",
              " 'microminiaturization': 20,\n",
              " 'microminiaturizations': 21,\n",
              " 'miscellaneousnesses': 19,\n",
              " 'multidenominational': 19,\n",
              " 'representativenesses': 20}"
            ]
          },
          "execution_count": 4,
          "metadata": {},
          "output_type": "execute_result"
        }
      ],
      "source": [
        "words_dictionary = words_dict()\n",
        "words_dictionary"
      ]
    },
    {
      "cell_type": "markdown",
      "metadata": {
        "id": "McX6OTk7Ihke"
      },
      "source": [
        "**Q 2:**\n",
        "\n",
        "Define a function named **words_length_dict**.\n",
        "\n",
        "It will read `en_words.txt` file and will create a dictionary from these words.\n",
        "\n",
        "It will only take the words that have more than or equal to 19 letters.\n",
        "\n",
        "The Key will be the length (number of characters in word) and the Value will be a List of words which have that length.\n",
        "\n",
        "The function will return this dictionary.\n",
        "\n",
        "**Hints:**\n",
        "* open()\n",
        "\n",
        "<pre>\n",
        "Expected Output:\n",
        "\n",
        "{19: ['anticonservationist', 'comprehensivenesses', 'counterdemonstrator', ...],\n",
        " 20: ['counterdemonstration', 'counterdemonstrators', 'hypersensitivenesses', ...],\n",
        " 21: ['counterdemonstrations', 'hyperaggressivenesses', 'microminiaturizations']}\n",
        "</pre>"
      ]
    },
    {
      "cell_type": "code",
      "execution_count": null,
      "metadata": {
        "id": "sefD8B0PIhkf"
      },
      "outputs": [],
      "source": [
        "# S 2:\n",
        "def words_length_dict():\n",
        "  f = open(\"en_words\", \"x\")\n",
        "  for x in len(f):\n",
        "    print(f)\n"
      ]
    },
    {
      "cell_type": "code",
      "execution_count": null,
      "metadata": {
        "id": "T9VUvgMtIhkf",
        "outputId": "56f84707-7a31-41d4-d307-68ab15c8a21b"
      },
      "outputs": [
        {
          "data": {
            "text/plain": [
              "{19: ['anticonservationist',\n",
              "  'comprehensivenesses',\n",
              "  'counterdemonstrator',\n",
              "  'counterinflationary',\n",
              "  'counterpropagations',\n",
              "  'counterretaliations',\n",
              "  'disinterestednesses',\n",
              "  'electrocardiographs',\n",
              "  'extraconstitutional',\n",
              "  'hyperaggressiveness',\n",
              "  'inappropriatenesses',\n",
              "  'inconsideratenesses',\n",
              "  'interdenominational',\n",
              "  'irreconcilabilities',\n",
              "  'miscellaneousnesses',\n",
              "  'multidenominational'],\n",
              " 20: ['counterdemonstration',\n",
              "  'counterdemonstrators',\n",
              "  'hypersensitivenesses',\n",
              "  'microminiaturization',\n",
              "  'representativenesses'],\n",
              " 21: ['counterdemonstrations',\n",
              "  'hyperaggressivenesses',\n",
              "  'microminiaturizations']}"
            ]
          },
          "execution_count": 6,
          "metadata": {},
          "output_type": "execute_result"
        }
      ],
      "source": [
        "length_words = words_length_dict()\n",
        "length_words"
      ]
    },
    {
      "cell_type": "markdown",
      "metadata": {
        "id": "xzRGc2g_Ihkg"
      },
      "source": [
        "**Q 3:**\n",
        "\n",
        "Define 4 functions named **car_1, car_2, car_3, car_4**.\n",
        "\n",
        "These functions will create dictionaries as below (name of the dictionary will be car):\n",
        "\n",
        "<pre>\n",
        "{'brand': 'Ford',\n",
        " 'model': 'Mustang',\n",
        " 'year': 1964,\n",
        " 'color': 'Red',\n",
        " 'price': 30000,\n",
        " 'km': 89000,\n",
        " 'motor': 1.6}\n",
        "</pre>\n",
        "\n",
        "Functions will create the dictionary by different ways and return the dictionary.\n",
        "\n",
        "**Hints:**\n",
        "* { }\n",
        "* dict()\n",
        "* update()"
      ]
    },
    {
      "cell_type": "code",
      "execution_count": null,
      "metadata": {
        "id": "444-qyHcIhkh"
      },
      "outputs": [],
      "source": [
        "# S 3:\n",
        "\n",
        "# Way 1\n",
        "def car_1():\n",
        " car = dict()\n",
        " car.update(\n",
        "    {\n",
        "        'brand': 'Ford',\n",
        "        'model': 'Mustang',\n",
        "        'year': 1964,\n",
        "        'color': 'Red',\n",
        "        'price': 30000,\n",
        "        'km': 89000,\n",
        "        'motor': 1.6\n",
        "    })\n",
        " return car"
      ]
    },
    {
      "cell_type": "code",
      "execution_count": null,
      "metadata": {
        "id": "B80FzrPlIhkh",
        "colab": {
          "base_uri": "https://localhost:8080/"
        },
        "outputId": "b5cc0cd5-3029-4cd2-e9ef-25ee7bf91330"
      },
      "outputs": [
        {
          "output_type": "execute_result",
          "data": {
            "text/plain": [
              "{'brand': 'Ford',\n",
              " 'model': 'Mustang',\n",
              " 'year': 1964,\n",
              " 'color': 'Red',\n",
              " 'price': 30000,\n",
              " 'km': 89000,\n",
              " 'motor': 1.6}"
            ]
          },
          "metadata": {},
          "execution_count": 45
        }
      ],
      "source": [
        "car_1()"
      ]
    },
    {
      "cell_type": "code",
      "execution_count": null,
      "metadata": {
        "id": "kM9ikQYgIhki"
      },
      "outputs": [],
      "source": [
        "# Way 2\n",
        "def car_2():\n",
        "    car = {}\n",
        "    car['brand'] = 'Ford'\n",
        "    car['model'] = 'Mustang'\n",
        "    car['year'] = 1964\n",
        "    car['color'] = 'Red'\n",
        "    car['price'] = 30000\n",
        "    car['km'] = 89000\n",
        "    car['motor'] = 1.6\n",
        "\n",
        "    return car"
      ]
    },
    {
      "cell_type": "code",
      "execution_count": null,
      "metadata": {
        "id": "U_2_7NpKIhki",
        "colab": {
          "base_uri": "https://localhost:8080/"
        },
        "outputId": "754a3d7a-c971-479c-c8f6-c462629041a1"
      },
      "outputs": [
        {
          "output_type": "execute_result",
          "data": {
            "text/plain": [
              "{'brand': 'Ford',\n",
              " 'model': 'Mustang',\n",
              " 'year': 1964,\n",
              " 'color': 'Red',\n",
              " 'price': 30000,\n",
              " 'km': 89000,\n",
              " 'motor': 1.6}"
            ]
          },
          "metadata": {},
          "execution_count": 53
        }
      ],
      "source": [
        "car_2()"
      ]
    },
    {
      "cell_type": "code",
      "execution_count": null,
      "metadata": {
        "id": "2LN1URPNIhki"
      },
      "outputs": [],
      "source": [
        "# Way 3\n",
        "def car_3():\n",
        "    car = dict()\n",
        "    car['brand'] = 'Ford'\n",
        "    car['model'] = 'Mustang'\n",
        "    car['year'] = 1964\n",
        "    car['color'] = 'Red'\n",
        "    car['price'] = 30000\n",
        "    car['km'] = 89000\n",
        "    car['motor'] = 1.6\n",
        "\n",
        "    return car\n"
      ]
    },
    {
      "cell_type": "code",
      "execution_count": null,
      "metadata": {
        "id": "0-OMC1V4Ihki",
        "outputId": "45a98d21-3951-4c71-b386-0658bb3d36b6",
        "colab": {
          "base_uri": "https://localhost:8080/"
        }
      },
      "outputs": [
        {
          "output_type": "execute_result",
          "data": {
            "text/plain": [
              "{'brand': 'Ford',\n",
              " 'model': 'Mustang',\n",
              " 'year': 1964,\n",
              " 'color': 'Red',\n",
              " 'price': 30000,\n",
              " 'km': 89000,\n",
              " 'motor': 1.6}"
            ]
          },
          "metadata": {},
          "execution_count": 55
        }
      ],
      "source": [
        "car_3()"
      ]
    },
    {
      "cell_type": "code",
      "execution_count": 1,
      "metadata": {
        "id": "qirYvxN-Ihkj"
      },
      "outputs": [],
      "source": [
        "# Way 4\n",
        "def car_4():\n",
        " car = dict()\n",
        " car.update(\n",
        "    {\n",
        "        'brand': 'Ford',\n",
        "        'model': 'Mustang',\n",
        "        'year': 1964,\n",
        "        'color': 'Red',\n",
        "        'price': 30000,\n",
        "        'km': 89000,\n",
        "        'motor': 1.6\n",
        "    })\n",
        " return car"
      ]
    },
    {
      "cell_type": "code",
      "execution_count": 2,
      "metadata": {
        "id": "ezva4hbzIhkj",
        "colab": {
          "base_uri": "https://localhost:8080/"
        },
        "outputId": "7b183924-d093-4e51-e82b-548af7f68f9d"
      },
      "outputs": [
        {
          "output_type": "execute_result",
          "data": {
            "text/plain": [
              "{'brand': 'Ford',\n",
              " 'model': 'Mustang',\n",
              " 'year': 1964,\n",
              " 'color': 'Red',\n",
              " 'price': 30000,\n",
              " 'km': 89000,\n",
              " 'motor': 1.6}"
            ]
          },
          "metadata": {},
          "execution_count": 2
        }
      ],
      "source": [
        "car_4()"
      ]
    },
    {
      "cell_type": "markdown",
      "metadata": {
        "id": "arPLmL8FIhkl"
      },
      "source": [
        "**Q 4:**\n",
        "\n",
        "Define a function named **create_a_new_car**.\n",
        "\n",
        "It will call one of the functions defined in Q3 and will get the car dictionary.\n",
        "\n",
        "Then it will copy the items of this car dictionary into another dictionary via a loop.\n",
        "\n",
        "It will first copy all the elements in car dictionary, then create new keys via appendin \"_2\" at the end of existing key, and create a new element.\n",
        "\n",
        "Values will be the same.\n",
        "\n",
        "It will return the new dictionary.\n",
        "\n",
        "**Hint:**\n",
        "* copy()\n",
        "* update()\n",
        "* items()\n",
        "\n",
        "<pre>\n",
        "Expected Output:\n",
        "\n",
        "{\n",
        " 'brand': 'Ford',\n",
        " 'model': 'Mustang',\n",
        " 'year': 1964,\n",
        " 'color': 'Red',\n",
        " 'price': 30000,\n",
        " 'km': 89000,\n",
        " 'motor': 1.6\n",
        " 'brand_2': 'Ford',\n",
        " 'model_2': 'Mustang',\n",
        " 'year_2': 1964,\n",
        " 'color_2': 'Red',\n",
        " 'price_2': 30000,\n",
        " 'km_2': 89000,\n",
        " 'motor_2': 1.6\n",
        " }\n",
        "</pre>"
      ]
    },
    {
      "cell_type": "code",
      "execution_count": null,
      "metadata": {
        "id": "ChFFeeaMIhkm"
      },
      "outputs": [],
      "source": [
        "# S 4:\n",
        "def create_a_new_car():\n",
        "  car = car_1()\n",
        "  new_car = car.copy()\n",
        "  for item in car.items():\n",
        "    key = item[0]\n",
        "    value = item[1]\n",
        "    key += '_2'\n",
        "    new_car[key] = value\n",
        "\n",
        "  return new_car"
      ]
    },
    {
      "cell_type": "code",
      "execution_count": null,
      "metadata": {
        "id": "rfNTlQYxIhkm",
        "outputId": "ba98b4fb-6eca-4ce7-99e5-7d0c1dd08b7a",
        "colab": {
          "base_uri": "https://localhost:8080/"
        }
      },
      "outputs": [
        {
          "output_type": "execute_result",
          "data": {
            "text/plain": [
              "{'brand': 'Ford',\n",
              " 'model': 'Mustang',\n",
              " 'year': 1964,\n",
              " 'color': 'Red',\n",
              " 'price': 30000,\n",
              " 'km': 89000,\n",
              " 'motor': 1.6,\n",
              " 'brand_2': 'Ford',\n",
              " 'model_2': 'Mustang',\n",
              " 'year_2': 1964,\n",
              " 'color_2': 'Red',\n",
              " 'price_2': 30000,\n",
              " 'km_2': 89000,\n",
              " 'motor_2': 1.6}"
            ]
          },
          "metadata": {},
          "execution_count": 83
        }
      ],
      "source": [
        "create_a_new_car()"
      ]
    }
  ]
}